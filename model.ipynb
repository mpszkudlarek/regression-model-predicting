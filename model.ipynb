{
 "cells": [
  {
   "cell_type": "code",
   "execution_count": null,
   "metadata": {},
   "outputs": [],
   "source": [
    "import seaborn as sns\n",
    "import pandas as pd\n",
    "import matplotlib.pyplot as plt\n",
    "import numpy as np\n",
    "import os\n",
    "from sklearn.preprocessing import StandardScaler\n",
    "from sklearn.metrics import mean_squared_error\n",
    "from sklearn.ensemble import RandomForestRegressor\n",
    "from sklearn.model_selection import GridSearchCV\n",
    "# from sklearn.model_selection import RandomizedSearchCV"
   ]
  },
  {
   "cell_type": "code",
   "execution_count": null,
   "outputs": [],
   "source": [
    "# Preprocess data - log transformation and create ratios between features\n",
    "def preprocess_data(file_path):\n",
    "    df = pd.read_csv(file_path)\n",
    "    df['ActualFlightTime'] = np.log(df['ActualFlightTime'] + 1)\n",
    "    df['ActualTotalFuel'] = np.log(df['ActualTotalFuel'] + 1)\n",
    "    df['FlownPassengers'] = np.log(df['FlownPassengers'] + 1)\n",
    "    df['BagsCount'] = np.log(df['BagsCount'] + 1)\n",
    "    df['FlightBagsWeight'] = np.log(df['FlightBagsWeight'] + 1)\n",
    "\n",
    "    df['flight_time_fuel_ratio'] = df['ActualFlightTime'] / df['ActualTotalFuel']\n",
    "    df['bags_weight_ratio'] = df['FlightBagsWeight'] / df['BagsCount']\n",
    "    df['bags_passengers_ratio'] = df['BagsCount'] / df['FlownPassengers']\n",
    "\n",
    "    df['flight_time_fuel_ratio'] = np.where(np.isfinite(df['flight_time_fuel_ratio']), df['flight_time_fuel_ratio'], 0)\n",
    "    df['bags_weight_ratio'] = np.where(np.isfinite(df['bags_weight_ratio']), df['bags_weight_ratio'], 0)\n",
    "    df['bags_passengers_ratio'] = np.where(np.isfinite(df['bags_passengers_ratio']), df['bags_passengers_ratio'], 0)\n",
    "\n",
    "    return df"
   ],
   "metadata": {
    "collapsed": false
   }
  },
  {
   "cell_type": "code",
   "execution_count": null,
   "outputs": [],
   "source": [
    "# Split data to train \n",
    "train_df = preprocess_data('input_refactor/training_refactor.csv')\n",
    "x_train, y_train = train_df.drop('ActualTOW', axis=1), train_df['ActualTOW']"
   ],
   "metadata": {
    "collapsed": false
   }
  },
  {
   "cell_type": "code",
   "execution_count": null,
   "outputs": [],
   "source": [
    "# Display histogram of train data\n",
    "train_df.hist(figsize=(15, 12))"
   ],
   "metadata": {
    "collapsed": false
   }
  },
  {
   "cell_type": "code",
   "execution_count": null,
   "outputs": [],
   "source": [
    "# Display heatmap with correlation between features in train data\n",
    "plt.figure(figsize=(12, 8))\n",
    "sns.heatmap(train_df.corr(), annot=True, cmap='coolwarm')"
   ],
   "metadata": {
    "collapsed": false
   }
  },
  {
   "cell_type": "code",
   "execution_count": null,
   "outputs": [],
   "source": [
    "# Scale data\n",
    "scaler = StandardScaler()\n",
    "x_train_scaled = scaler.fit_transform(x_train)"
   ],
   "metadata": {
    "collapsed": false
   }
  },
  {
   "cell_type": "code",
   "execution_count": null,
   "outputs": [],
   "source": [
    "# Create model of regression using Random Forest\n",
    "forest = RandomForestRegressor()\n",
    "param_grid = {}\n",
    "grid_search = GridSearchCV(estimator=forest, param_grid=param_grid, cv=5,\n",
    "                           scoring='neg_mean_squared_error',\n",
    "                           return_train_score=True)\n",
    "grid_search.fit(x_train_scaled, y_train)\n",
    "\n",
    "# This take too much time to compile\n",
    "# param_grid = {\n",
    "#     'n_estimators': [100, 200, 300],\n",
    "#     'max_depth': [None, 4, 8],\n",
    "#     'min_samples_split': [2, 4]\n",
    "# }\n",
    "# \n",
    "# grid_search = GridSearchCV(estimator=forest, param_grid=param_grid, cv=5,\n",
    "#                            scoring='neg_mean_squared_error',\n",
    "#                            return_train_score=True)\n",
    "# \n",
    "# grid_search.fit(x_train_scaled, y_train)\n",
    "\n",
    "#Second option for time saving - not good enough compared to a default settings\n",
    "# param_dist = {\n",
    "#     'n_estimators': [100, 200, 300],\n",
    "#     'max_depth': [None, 4, 8],\n",
    "#     'min_samples_split': [2, 4]\n",
    "# }\n",
    "# \n",
    "# random_search = RandomizedSearchCV(estimator=forest, param_distributions=param_dist, cv=5,\n",
    "#                                    scoring='neg_mean_squared_error', n_iter=10,\n",
    "#                                    return_train_score=True)\n",
    "# \n",
    "# random_search.fit(x_train_scaled, y_train)"
   ],
   "metadata": {
    "collapsed": false
   }
  },
  {
   "cell_type": "code",
   "execution_count": null,
   "outputs": [],
   "source": [
    "# Select best model from grid search\n",
    "best_model = grid_search.best_estimator_\n",
    "# best_model = random_search.best_estimator_"
   ],
   "metadata": {
    "collapsed": false
   }
  },
  {
   "cell_type": "code",
   "execution_count": null,
   "outputs": [],
   "source": [
    "# Check the score of model \n",
    "best_model.score(x_train_scaled, y_train)"
   ],
   "metadata": {
    "collapsed": false
   }
  },
  {
   "cell_type": "code",
   "execution_count": null,
   "outputs": [],
   "source": [
    "# Check the RMSE of model\n",
    "rmse = np.sqrt(mean_squared_error(y_train, best_model.predict(x_train_scaled)))\n",
    "print('RMSE:', rmse)"
   ],
   "metadata": {
    "collapsed": false
   }
  },
  {
   "cell_type": "code",
   "execution_count": null,
   "outputs": [],
   "source": [
    "# Preprocess validation data\n",
    "val_df = preprocess_data('input_refactor/validation_refactor.csv')"
   ],
   "metadata": {
    "collapsed": false
   }
  },
  {
   "cell_type": "code",
   "execution_count": null,
   "outputs": [],
   "source": [
    "x_val_scaled = scaler.transform(val_df)"
   ],
   "metadata": {
    "collapsed": false
   }
  },
  {
   "cell_type": "code",
   "execution_count": null,
   "outputs": [],
   "source": [
    "predictions = best_model.predict(x_val_scaled)"
   ],
   "metadata": {
    "collapsed": false
   }
  },
  {
   "cell_type": "code",
   "execution_count": null,
   "outputs": [],
   "source": [
    "# Create output directory if not exists\n",
    "output_directory = 'output'\n",
    "os.makedirs(output_directory, exist_ok=True)\n",
    "\n",
    "# Save predictions to csv file\n",
    "output_path = os.path.join(output_directory, 'output.csv')\n",
    "val_df['PredictedActualTOW'] = predictions\n",
    "val_df.to_csv(output_path, index=False)\n",
    "\n",
    "print('Data saved to', output_path)"
   ],
   "metadata": {
    "collapsed": false
   }
  },
  {
   "cell_type": "markdown",
   "source": [],
   "metadata": {
    "collapsed": false
   }
  }
 ],
 "metadata": {
  "kernelspec": {
   "display_name": "Python 3 (ipykernel)",
   "language": "python",
   "name": "python3"
  },
  "language_info": {
   "codemirror_mode": {
    "name": "ipython",
    "version": 3
   },
   "file_extension": ".py",
   "mimetype": "text/x-python",
   "name": "python",
   "nbconvert_exporter": "python",
   "pygments_lexer": "ipython3",
   "version": "3.11.3"
  }
 },
 "nbformat": 4,
 "nbformat_minor": 4
}
