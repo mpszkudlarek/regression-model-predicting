{
 "cells": [
  {
   "cell_type": "code",
   "execution_count": 51,
   "metadata": {
    "ExecuteTime": {
     "end_time": "2023-05-31T13:15:20.533892800Z",
     "start_time": "2023-05-31T13:15:20.530379700Z"
    }
   },
   "outputs": [],
   "source": [
    "import seaborn as sns\n",
    "import numpy as np\n",
    "import pandas as pd\n",
    "import matplotlib.pyplot as plt\n",
    "import os\n"
   ]
  },
  {
   "cell_type": "code",
   "execution_count": 46,
   "outputs": [
    {
     "name": "stdout",
     "output_type": "stream",
     "text": [
      "<class 'pandas.core.frame.DataFrame'>\n",
      "RangeIndex: 29731 entries, 0 to 29730\n",
      "Data columns (total 14 columns):\n",
      " #   Column            Non-Null Count  Dtype  \n",
      "---  ------            --------------  -----  \n",
      " 0   DepartureDate     29731 non-null  object \n",
      " 1   DepartureYear     29731 non-null  int64  \n",
      " 2   DepartureMonth    29731 non-null  int64  \n",
      " 3   DepartureDay      29731 non-null  int64  \n",
      " 4   FlightNumber      29731 non-null  int64  \n",
      " 5   DepartureAirport  29731 non-null  object \n",
      " 6   ArrivalAirport    29731 non-null  object \n",
      " 7   Route             29731 non-null  object \n",
      " 8   ActualFlightTime  29731 non-null  int64  \n",
      " 9   ActualTotalFuel   29731 non-null  int64  \n",
      " 10  ActualTOW         29731 non-null  float64\n",
      " 11  FLownPassengers   29731 non-null  float64\n",
      " 12  BagsCount         29731 non-null  float64\n",
      " 13  FlightBagsWeight  29731 non-null  float64\n",
      "dtypes: float64(4), int64(6), object(4)\n",
      "memory usage: 3.2+ MB\n",
      "None\n",
      "      DepartureDate  DepartureYear  DepartureMonth  DepartureDay  \\\n",
      "0        01/10/2016           2016              10             1   \n",
      "1        01/10/2016           2016              10             1   \n",
      "2        01/10/2016           2016              10             1   \n",
      "3        01/10/2016           2016              10             1   \n",
      "4        01/10/2016           2016              10             1   \n",
      "...             ...            ...             ...           ...   \n",
      "29726    15/10/2016           2016              10            15   \n",
      "29727    15/10/2016           2016              10            15   \n",
      "29728    15/10/2016           2016              10            15   \n",
      "29729    15/10/2016           2016              10            15   \n",
      "29730    15/10/2016           2016              10            15   \n",
      "\n",
      "       FlightNumber DepartureAirport ArrivalAirport    Route  \\\n",
      "0              1145              MAN            SXF  MAN-SXF   \n",
      "1              1160              CTA            FCO  CTA-FCO   \n",
      "2              1183              LGW            SNN  LGW-SNN   \n",
      "3              1220              ATH            CHQ  ATH-CHQ   \n",
      "4              1225              CHQ            ATH  CHQ-ATH   \n",
      "...             ...              ...            ...      ...   \n",
      "29726          9833              PMI            HHN  PMI-HHN   \n",
      "29727          9862              LPL            AGP  LPL-AGP   \n",
      "29728          9863              AGP            LPL  AGP-LPL   \n",
      "29729          9948              FAO            ORK  FAO-ORK   \n",
      "29730          9992              PSA            MLA  PSA-MLA   \n",
      "\n",
      "       ActualFlightTime  ActualTotalFuel  ActualTOW  FLownPassengers  \\\n",
      "0                    91             3660    64016.0            175.0   \n",
      "1                    68             3280    66138.0            182.0   \n",
      "2                    64             2720    58447.0            127.0   \n",
      "3                    35             1682    60587.0            163.0   \n",
      "4                    34             1877    63090.0            178.0   \n",
      "...                 ...              ...        ...              ...   \n",
      "29726               102             4880    66247.0            177.0   \n",
      "29727               163             6890    67898.0            185.0   \n",
      "29728               145             6322    66247.0            172.0   \n",
      "29729               132             5880    68224.0            183.0   \n",
      "29730                79             3400    63635.0            153.0   \n",
      "\n",
      "       BagsCount  FlightBagsWeight  \n",
      "0           61.0             440.0  \n",
      "1           27.0             350.0  \n",
      "2            0.0               0.0  \n",
      "3           12.0             150.0  \n",
      "4           37.0             490.0  \n",
      "...          ...               ...  \n",
      "29726       96.0            1250.0  \n",
      "29727      107.0            1390.0  \n",
      "29728       64.0             830.0  \n",
      "29729       82.0            1090.0  \n",
      "29730       37.0             480.0  \n",
      "\n",
      "[29731 rows x 14 columns]\n"
     ]
    }
   ],
   "source": [
    "# Read data \n",
    "df = pd.read_csv('split/training_split.csv')\n",
    "# df = df.dropna()\n",
    "# fill the nan values with 0\n",
    "df = df.fillna(0)\n",
    "\n",
    "# print data to check\n",
    "print(df.info())\n",
    "print(df)"
   ],
   "metadata": {
    "collapsed": false,
    "ExecuteTime": {
     "end_time": "2023-05-31T13:11:11.785692400Z",
     "start_time": "2023-05-31T13:11:11.736496300Z"
    }
   }
  },
  {
   "cell_type": "code",
   "execution_count": 49,
   "outputs": [
    {
     "name": "stdout",
     "output_type": "stream",
     "text": [
      "<class 'pandas.core.frame.DataFrame'>\n",
      "RangeIndex: 29731 entries, 0 to 29730\n",
      "Data columns (total 14 columns):\n",
      " #   Column            Non-Null Count  Dtype         \n",
      "---  ------            --------------  -----         \n",
      " 0   DepartureDate     29731 non-null  datetime64[ns]\n",
      " 1   DepartureYear     29731 non-null  int64         \n",
      " 2   DepartureMonth    29731 non-null  int64         \n",
      " 3   DepartureDay      29731 non-null  int64         \n",
      " 4   FlightNumber      29731 non-null  int64         \n",
      " 5   DepartureAirport  29731 non-null  int64         \n",
      " 6   ArrivalAirport    29731 non-null  int64         \n",
      " 7   Route             29731 non-null  int64         \n",
      " 8   ActualFlightTime  29731 non-null  int64         \n",
      " 9   ActualTotalFuel   29731 non-null  int64         \n",
      " 10  ActualTOW         29731 non-null  float64       \n",
      " 11  FLownPassengers   29731 non-null  float64       \n",
      " 12  BagsCount         29731 non-null  float64       \n",
      " 13  FlightBagsWeight  29731 non-null  float64       \n",
      "dtypes: datetime64[ns](1), float64(4), int64(9)\n",
      "memory usage: 3.2 MB\n",
      "None\n"
     ]
    }
   ],
   "source": [
    "# change the data type of the columns to specific key values\n",
    "df['DepartureAirport'] = pd.factorize(df['DepartureAirport'])[0]\n",
    "df['ArrivalAirport'] = pd.factorize(df['ArrivalAirport'])[0]\n",
    "df['Route'] = pd.factorize(df['Route'])[0]\n",
    "\n",
    "# Convert 'DepartureDate' column to datetime format\n",
    "df['DepartureDate'] = pd.to_datetime(df['DepartureDate'], format='%d/%m/%Y')\n",
    "\n",
    "print(df.info())\n",
    "\n"
   ],
   "metadata": {
    "collapsed": false,
    "ExecuteTime": {
     "end_time": "2023-05-31T13:12:40.243695900Z",
     "start_time": "2023-05-31T13:12:40.229170900Z"
    }
   }
  },
  {
   "cell_type": "code",
   "execution_count": 52,
   "outputs": [
    {
     "name": "stdout",
     "output_type": "stream",
     "text": [
      "Output directory created successfully.\n"
     ]
    }
   ],
   "source": [
    "# Create the output directory if it doesn't exist\n",
    "output_directory = 'output'\n",
    "if not os.path.exists(output_directory):\n",
    "    os.makedirs(output_directory)\n",
    "    print(\"Output directory created successfully.\")\n",
    "\n",
    "# save data to csv file\n",
    "df.to_csv('output/output.csv', index=False)\n"
   ],
   "metadata": {
    "collapsed": false,
    "ExecuteTime": {
     "end_time": "2023-05-31T13:15:23.519159600Z",
     "start_time": "2023-05-31T13:15:23.384116900Z"
    }
   }
  },
  {
   "cell_type": "code",
   "execution_count": null,
   "outputs": [],
   "source": [],
   "metadata": {
    "collapsed": false
   }
  }
 ],
 "metadata": {
  "kernelspec": {
   "display_name": "Python 3 (ipykernel)",
   "language": "python",
   "name": "python3"
  },
  "language_info": {
   "codemirror_mode": {
    "name": "ipython",
    "version": 3
   },
   "file_extension": ".py",
   "mimetype": "text/x-python",
   "name": "python",
   "nbconvert_exporter": "python",
   "pygments_lexer": "ipython3",
   "version": "3.11.3"
  }
 },
 "nbformat": 4,
 "nbformat_minor": 4
}
