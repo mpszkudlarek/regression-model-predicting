{
 "cells": [
  {
   "cell_type": "code",
   "execution_count": null,
   "metadata": {},
   "outputs": [],
   "source": [
    "import seaborn as sns\n",
    "import numpy as np\n",
    "import pandas as pd\n",
    "import matplotlib.pyplot as plt\n",
    "import os\n",
    "from sklearn.preprocessing import StandardScaler\n",
    "from sklearn.linear_model import LinearRegression\n",
    "from sklearn.model_selection import train_test_split\n",
    "from sklearn.ensemble import RandomForestRegressor\n",
    "# from sklearn.metrics import mean_squared_error\n"
   ]
  },
  {
   "cell_type": "code",
   "execution_count": null,
   "outputs": [],
   "source": [
    "df = pd.read_csv('split/training_split.csv')\n",
    "df_val = pd.read_csv('split/validation_split.csv')"
   ],
   "metadata": {
    "collapsed": false
   }
  },
  {
   "cell_type": "code",
   "execution_count": null,
   "outputs": [],
   "source": [
    "X = df.drop(\"ActualTOW\", axis=1)  # Features\n",
    "y = df[\"ActualTOW\"]  # Target variable\n",
    "\n",
    "X_train, X_test, y_train, y_test = train_test_split(X, y, test_size=0.2, random_state=42)\n",
    "\n",
    "train_data = X_train.join(y_train)"
   ],
   "metadata": {
    "collapsed": false
   }
  },
  {
   "cell_type": "code",
   "execution_count": null,
   "outputs": [],
   "source": [
    "scaler = StandardScaler()\n",
    "\n",
    "X_train = scaler.fit_transform(X_train)\n",
    "X_test = scaler.transform(X_test)\n"
   ],
   "metadata": {
    "collapsed": false
   }
  },
  {
   "cell_type": "code",
   "execution_count": null,
   "outputs": [],
   "source": [
    "train_data.hist(figsize=(15,12))"
   ],
   "metadata": {
    "collapsed": false
   }
  },
  {
   "cell_type": "code",
   "execution_count": null,
   "outputs": [],
   "source": [
    "plt.figure(figsize=(15,8))\n",
    "sns.heatmap(train_data, annot=True,cmap= 'coolwarm')"
   ],
   "metadata": {
    "collapsed": false,
    "is_executing": true
   }
  },
  {
   "cell_type": "code",
   "execution_count": null,
   "outputs": [],
   "source": [
    "# TODO: preprocess the data for better results \n",
    "\n",
    "# train_data['ActualFlightTime'] = np.log(train_data['ActualFlightTime']+1)\n",
    "# train_data['ActualTotalFuel'] = np.log(train_data['ActualTotalFuel']+1)\n",
    "# train_data['FLownPassengers'] = np.log(train_data['FLownPassengers']+1)\n",
    "# train_data['BagsCount'] = np.log(train_data['BagsCount']+1)\n",
    "# train_data['FlightBagsWeight'] = np.log(train_data['FlightBagsWeight']+1)\n",
    "\n",
    "# test_data = X_test.join(Y_test)\n",
    "# test_data['ActualFlightTime'] = np.log(test_data['ActualFlightTime']+1)\n",
    "# test_data['ActualTotalFuel'] = np.log(test_data['ActualTotalFuel']+1)\n",
    "# test_data['FLownPassengers'] = np.log(test_data['FLownPassengers']+1)\n",
    "# test_data['BagsCount'] = np.log(test_data['BagsCount']+1)\n",
    "# test_data['FlightBagsWeight'] = np.log(test_data['FlightBagsWeight']+1)"
   ],
   "metadata": {
    "collapsed": false,
    "is_executing": true
   }
  },
  {
   "cell_type": "code",
   "execution_count": null,
   "outputs": [],
   "source": [
    "# train_data.hist(figsize=(15,12))"
   ],
   "metadata": {
    "collapsed": false,
    "is_executing": true
   }
  },
  {
   "cell_type": "code",
   "execution_count": null,
   "outputs": [],
   "source": [
    "# plt.figure(figsize=(15,8))\n",
    "# sns.scatterplot(x='BagsCount', y='ActualTotalFuel', data=train_data, hue= 'ActualTOW', palette='coolwarm')"
   ],
   "metadata": {
    "collapsed": false
   }
  },
  {
   "cell_type": "code",
   "execution_count": null,
   "outputs": [],
   "source": [
    "X_train, Y_train = train_data.drop(['ActualTOW'], axis=1), train_data['ActualTOW']\n",
    "\n",
    "reg = LinearRegression().fit(X_train, Y_train)\n",
    "reg.score(X_train, Y_train)"
   ],
   "metadata": {
    "collapsed": false,
    "is_executing": true
   }
  },
  {
   "cell_type": "code",
   "execution_count": null,
   "outputs": [],
   "source": [
    "model = RandomForestRegressor(n_estimators=100, random_state=42)\n",
    "model.fit(X_train, Y_train)\n",
    "y_pred = model.predict(X_train)\n",
    "model.score(X_train, Y_train)\n",
    "# mse = mean_squared_error(Y_train, y_pred)\n",
    "# print(\"MSE: %.2f\" % mse)"
   ],
   "metadata": {
    "collapsed": false,
    "is_executing": true
   }
  },
  {
   "cell_type": "code",
   "execution_count": null,
   "outputs": [],
   "source": [
    "# Create the output directory if it doesn't exist\n",
    "output_directory = 'output'\n",
    "if not os.path.exists(output_directory):\n",
    "    os.makedirs(output_directory)\n",
    "    print(\"Output directory created successfully.\")\n",
    "\n",
    "# save data to csv file\n",
    "df_val['PredictedActualTOW'] = y_pred\n",
    "df_val.to_csv('validation_with_predictions.csv', index=False)"
   ],
   "metadata": {
    "collapsed": false
   }
  }
 ],
 "metadata": {
  "kernelspec": {
   "display_name": "Python 3 (ipykernel)",
   "language": "python",
   "name": "python3"
  },
  "language_info": {
   "codemirror_mode": {
    "name": "ipython",
    "version": 3
   },
   "file_extension": ".py",
   "mimetype": "text/x-python",
   "name": "python",
   "nbconvert_exporter": "python",
   "pygments_lexer": "ipython3",
   "version": "3.11.3"
  }
 },
 "nbformat": 4,
 "nbformat_minor": 4
}
