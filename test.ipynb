{
 "cells": [
  {
   "cell_type": "code",
   "execution_count": 368,
   "metadata": {
    "ExecuteTime": {
     "end_time": "2023-05-31T19:40:53.026083500Z",
     "start_time": "2023-05-31T19:40:53.019571800Z"
    }
   },
   "outputs": [],
   "source": [
    "import seaborn as sns\n",
    "import pandas as pd\n",
    "import matplotlib.pyplot as plt\n",
    "import numpy as np\n",
    "import os\n",
    "from sklearn.model_selection import train_test_split\n",
    "from sklearn.ensemble import RandomForestRegressor\n",
    "from sklearn.model_selection import GridSearchCV"
   ]
  },
  {
   "cell_type": "code",
   "execution_count": 369,
   "outputs": [],
   "source": [
    "df = pd.read_csv('split/training_split.csv')\n",
    "df_val = pd.read_csv('split/validation_split.csv')"
   ],
   "metadata": {
    "collapsed": false,
    "ExecuteTime": {
     "end_time": "2023-05-31T19:40:53.480624800Z",
     "start_time": "2023-05-31T19:40:53.448192300Z"
    }
   }
  },
  {
   "cell_type": "code",
   "execution_count": 370,
   "outputs": [
    {
     "name": "stdout",
     "output_type": "stream",
     "text": [
      "<class 'pandas.core.frame.DataFrame'>\n",
      "RangeIndex: 29731 entries, 0 to 29730\n",
      "Data columns (total 14 columns):\n",
      " #   Column            Non-Null Count  Dtype  \n",
      "---  ------            --------------  -----  \n",
      " 0   DepartureDate     29731 non-null  int64  \n",
      " 1   DepartureYear     29731 non-null  int64  \n",
      " 2   DepartureMonth    29731 non-null  int64  \n",
      " 3   DepartureDay      29731 non-null  int64  \n",
      " 4   FlightNumber      29731 non-null  int64  \n",
      " 5   DepartureAirport  29731 non-null  int64  \n",
      " 6   ArrivalAirport    29731 non-null  int64  \n",
      " 7   Route             29731 non-null  int64  \n",
      " 8   ActualFlightTime  29731 non-null  int64  \n",
      " 9   ActualTotalFuel   29731 non-null  int64  \n",
      " 10  ActualTOW         29731 non-null  float64\n",
      " 11  FlownPassengers   29731 non-null  float64\n",
      " 12  BagsCount         29731 non-null  float64\n",
      " 13  FlightBagsWeight  29731 non-null  float64\n",
      "dtypes: float64(4), int64(10)\n",
      "memory usage: 3.2 MB\n",
      "<class 'pandas.core.frame.DataFrame'>\n",
      "RangeIndex: 1878 entries, 0 to 1877\n",
      "Data columns (total 13 columns):\n",
      " #   Column            Non-Null Count  Dtype  \n",
      "---  ------            --------------  -----  \n",
      " 0   DepartureDate     1878 non-null   int64  \n",
      " 1   DepartureYear     1878 non-null   int64  \n",
      " 2   DepartureMonth    1878 non-null   int64  \n",
      " 3   DepartureDay      1878 non-null   int64  \n",
      " 4   FlightNumber      1878 non-null   int64  \n",
      " 5   DepartureAirport  1878 non-null   int64  \n",
      " 6   ArrivalAirport    1878 non-null   int64  \n",
      " 7   Route             1878 non-null   int64  \n",
      " 8   ActualFlightTime  1878 non-null   int64  \n",
      " 9   ActualTotalFuel   1878 non-null   int64  \n",
      " 10  FlownPassengers   1878 non-null   float64\n",
      " 11  BagsCount         1878 non-null   float64\n",
      " 12  FlightBagsWeight  1878 non-null   float64\n",
      "dtypes: float64(3), int64(10)\n",
      "memory usage: 190.9 KB\n"
     ]
    }
   ],
   "source": [
    "df.info()\n",
    "df_val.info()"
   ],
   "metadata": {
    "collapsed": false,
    "ExecuteTime": {
     "end_time": "2023-05-31T19:40:54.114814400Z",
     "start_time": "2023-05-31T19:40:54.102962500Z"
    }
   }
  },
  {
   "cell_type": "code",
   "execution_count": 371,
   "outputs": [],
   "source": [
    "x = df.drop('ActualTOW', axis=1)  # Dataframe without the target variable\n",
    "y = df['ActualTOW']  # Target variable\n",
    "\n",
    "x_train, x_test, y_train, y_test = train_test_split(x, y, test_size=0.2)\n",
    "train_df = x_train.join(y_train)"
   ],
   "metadata": {
    "collapsed": false,
    "ExecuteTime": {
     "end_time": "2023-05-31T19:40:56.472696500Z",
     "start_time": "2023-05-31T19:40:56.461294300Z"
    }
   }
  },
  {
   "cell_type": "code",
   "execution_count": null,
   "outputs": [],
   "source": [
    "train_df.hist(figsize=(15, 12))"
   ],
   "metadata": {
    "collapsed": false
   }
  },
  {
   "cell_type": "code",
   "execution_count": 372,
   "outputs": [],
   "source": [
    "train_df['ActualFlightTime'] = np.log(train_df['ActualFlightTime'] + 1)\n",
    "train_df['ActualTotalFuel'] = np.log(train_df['ActualTotalFuel'] + 1)\n",
    "train_df['FlownPassengers'] = np.log(train_df['FlownPassengers'] + 1)\n",
    "train_df['BagsCount'] = np.log(train_df['BagsCount'] + 1)\n",
    "train_df['FlightBagsWeight'] = np.log(train_df['FlightBagsWeight'] + 1)"
   ],
   "metadata": {
    "collapsed": false,
    "ExecuteTime": {
     "end_time": "2023-05-31T19:40:58.666387600Z",
     "start_time": "2023-05-31T19:40:58.659673200Z"
    }
   }
  },
  {
   "cell_type": "code",
   "execution_count": null,
   "outputs": [],
   "source": [
    "train_df.hist(figsize=(15, 12))"
   ],
   "metadata": {
    "collapsed": false
   }
  },
  {
   "cell_type": "code",
   "execution_count": null,
   "outputs": [],
   "source": [
    "plt.figure(figsize=(15, 12))\n",
    "sns.heatmap(train_df.corr(), annot=True, cmap='coolwarm')"
   ],
   "metadata": {
    "collapsed": false
   }
  },
  {
   "cell_type": "code",
   "execution_count": 373,
   "outputs": [],
   "source": [
    "train_df['flight_time_fuel_ratio'] = train_df['ActualFlightTime'] / train_df['ActualTotalFuel']\n",
    "train_df['bags_weight_ratio'] = train_df['FlightBagsWeight'] / train_df['BagsCount'] \n",
    "train_df['bags_passengers_ratio'] = train_df['BagsCount'] / train_df['FlownPassengers']"
   ],
   "metadata": {
    "collapsed": false,
    "ExecuteTime": {
     "end_time": "2023-05-31T19:41:01.582373500Z",
     "start_time": "2023-05-31T19:41:01.573268900Z"
    }
   }
  },
  {
   "cell_type": "code",
   "execution_count": 374,
   "outputs": [],
   "source": [
    "train_df['flight_time_fuel_ratio'] = np.where(np.isfinite(train_df['flight_time_fuel_ratio']), train_df['flight_time_fuel_ratio'], 0)\n",
    "train_df['bags_weight_ratio'] = np.where(np.isfinite(train_df['bags_weight_ratio']), train_df['bags_weight_ratio'], 0)\n",
    "train_df['bags_passengers_ratio'] = np.where(np.isfinite(train_df['bags_passengers_ratio']), train_df['bags_passengers_ratio'], 0)"
   ],
   "metadata": {
    "collapsed": false,
    "ExecuteTime": {
     "end_time": "2023-05-31T19:41:04.890816800Z",
     "start_time": "2023-05-31T19:41:04.883037500Z"
    }
   }
  },
  {
   "cell_type": "code",
   "execution_count": null,
   "outputs": [],
   "source": [
    "plt.figure(figsize=(15, 12))\n",
    "sns.heatmap(train_df.corr(), annot=True, cmap='coolwarm')"
   ],
   "metadata": {
    "collapsed": false
   }
  },
  {
   "cell_type": "code",
   "execution_count": 384,
   "outputs": [
    {
     "data": {
      "text/plain": "LinearRegression()",
      "text/html": "<style>#sk-container-id-13 {color: black;background-color: white;}#sk-container-id-13 pre{padding: 0;}#sk-container-id-13 div.sk-toggleable {background-color: white;}#sk-container-id-13 label.sk-toggleable__label {cursor: pointer;display: block;width: 100%;margin-bottom: 0;padding: 0.3em;box-sizing: border-box;text-align: center;}#sk-container-id-13 label.sk-toggleable__label-arrow:before {content: \"▸\";float: left;margin-right: 0.25em;color: #696969;}#sk-container-id-13 label.sk-toggleable__label-arrow:hover:before {color: black;}#sk-container-id-13 div.sk-estimator:hover label.sk-toggleable__label-arrow:before {color: black;}#sk-container-id-13 div.sk-toggleable__content {max-height: 0;max-width: 0;overflow: hidden;text-align: left;background-color: #f0f8ff;}#sk-container-id-13 div.sk-toggleable__content pre {margin: 0.2em;color: black;border-radius: 0.25em;background-color: #f0f8ff;}#sk-container-id-13 input.sk-toggleable__control:checked~div.sk-toggleable__content {max-height: 200px;max-width: 100%;overflow: auto;}#sk-container-id-13 input.sk-toggleable__control:checked~label.sk-toggleable__label-arrow:before {content: \"▾\";}#sk-container-id-13 div.sk-estimator input.sk-toggleable__control:checked~label.sk-toggleable__label {background-color: #d4ebff;}#sk-container-id-13 div.sk-label input.sk-toggleable__control:checked~label.sk-toggleable__label {background-color: #d4ebff;}#sk-container-id-13 input.sk-hidden--visually {border: 0;clip: rect(1px 1px 1px 1px);clip: rect(1px, 1px, 1px, 1px);height: 1px;margin: -1px;overflow: hidden;padding: 0;position: absolute;width: 1px;}#sk-container-id-13 div.sk-estimator {font-family: monospace;background-color: #f0f8ff;border: 1px dotted black;border-radius: 0.25em;box-sizing: border-box;margin-bottom: 0.5em;}#sk-container-id-13 div.sk-estimator:hover {background-color: #d4ebff;}#sk-container-id-13 div.sk-parallel-item::after {content: \"\";width: 100%;border-bottom: 1px solid gray;flex-grow: 1;}#sk-container-id-13 div.sk-label:hover label.sk-toggleable__label {background-color: #d4ebff;}#sk-container-id-13 div.sk-serial::before {content: \"\";position: absolute;border-left: 1px solid gray;box-sizing: border-box;top: 0;bottom: 0;left: 50%;z-index: 0;}#sk-container-id-13 div.sk-serial {display: flex;flex-direction: column;align-items: center;background-color: white;padding-right: 0.2em;padding-left: 0.2em;position: relative;}#sk-container-id-13 div.sk-item {position: relative;z-index: 1;}#sk-container-id-13 div.sk-parallel {display: flex;align-items: stretch;justify-content: center;background-color: white;position: relative;}#sk-container-id-13 div.sk-item::before, #sk-container-id-13 div.sk-parallel-item::before {content: \"\";position: absolute;border-left: 1px solid gray;box-sizing: border-box;top: 0;bottom: 0;left: 50%;z-index: -1;}#sk-container-id-13 div.sk-parallel-item {display: flex;flex-direction: column;z-index: 1;position: relative;background-color: white;}#sk-container-id-13 div.sk-parallel-item:first-child::after {align-self: flex-end;width: 50%;}#sk-container-id-13 div.sk-parallel-item:last-child::after {align-self: flex-start;width: 50%;}#sk-container-id-13 div.sk-parallel-item:only-child::after {width: 0;}#sk-container-id-13 div.sk-dashed-wrapped {border: 1px dashed gray;margin: 0 0.4em 0.5em 0.4em;box-sizing: border-box;padding-bottom: 0.4em;background-color: white;}#sk-container-id-13 div.sk-label label {font-family: monospace;font-weight: bold;display: inline-block;line-height: 1.2em;}#sk-container-id-13 div.sk-label-container {text-align: center;}#sk-container-id-13 div.sk-container {/* jupyter's `normalize.less` sets `[hidden] { display: none; }` but bootstrap.min.css set `[hidden] { display: none !important; }` so we also need the `!important` here to be able to override the default hidden behavior on the sphinx rendered scikit-learn.org. See: https://github.com/scikit-learn/scikit-learn/issues/21755 */display: inline-block !important;position: relative;}#sk-container-id-13 div.sk-text-repr-fallback {display: none;}</style><div id=\"sk-container-id-13\" class=\"sk-top-container\"><div class=\"sk-text-repr-fallback\"><pre>LinearRegression()</pre><b>In a Jupyter environment, please rerun this cell to show the HTML representation or trust the notebook. <br />On GitHub, the HTML representation is unable to render, please try loading this page with nbviewer.org.</b></div><div class=\"sk-container\" hidden><div class=\"sk-item\"><div class=\"sk-estimator sk-toggleable\"><input class=\"sk-toggleable__control sk-hidden--visually\" id=\"sk-estimator-id-15\" type=\"checkbox\" checked><label for=\"sk-estimator-id-15\" class=\"sk-toggleable__label sk-toggleable__label-arrow\">LinearRegression</label><div class=\"sk-toggleable__content\"><pre>LinearRegression()</pre></div></div></div></div></div>"
     },
     "execution_count": 384,
     "metadata": {},
     "output_type": "execute_result"
    }
   ],
   "source": [
    "from sklearn.linear_model import LinearRegression\n",
    "from sklearn.preprocessing import StandardScaler\n",
    "\n",
    "scaler = StandardScaler()\n",
    "x_train, y_train = train_df.drop('ActualTOW', axis=1), train_df['ActualTOW']\n",
    "x_train_s = scaler.fit_transform(x_train)\n",
    "reg = LinearRegression()\n",
    "reg.fit(x_train, y_train)\n"
   ],
   "metadata": {
    "collapsed": false,
    "ExecuteTime": {
     "end_time": "2023-05-31T19:43:28.332434700Z",
     "start_time": "2023-05-31T19:43:28.303906900Z"
    }
   }
  },
  {
   "cell_type": "code",
   "execution_count": 397,
   "outputs": [],
   "source": [
    "test_df = x_test.join(y_test)\n",
    "test_df['ActualFlightTime'] = np.log(test_df['ActualFlightTime'] + 1)\n",
    "test_df['ActualTotalFuel'] = np.log(test_df['ActualTotalFuel'] + 1)\n",
    "test_df['FlownPassengers'] = np.log(test_df['FlownPassengers'] + 1)\n",
    "test_df['BagsCount'] = np.log(test_df['BagsCount'] + 1)\n",
    "test_df['FlightBagsWeight'] = np.log(test_df['FlightBagsWeight'] + 1)\n",
    "\n",
    "test_df['flight_time_fuel_ratio'] = test_df['ActualFlightTime'] / test_df['ActualTotalFuel']\n",
    "test_df['bags_weight_ratio'] = test_df['FlightBagsWeight'] / test_df['BagsCount']\n",
    "test_df['bags_passengers_ratio'] = test_df['BagsCount'] / test_df['FlownPassengers']\n",
    "\n",
    "test_df['flight_time_fuel_ratio'] = np.where(np.isfinite(test_df['flight_time_fuel_ratio']), test_df['flight_time_fuel_ratio'], 0)\n",
    "test_df['bags_weight_ratio'] = np.where(np.isfinite(test_df['bags_weight_ratio']), test_df['bags_weight_ratio'], 0)\n",
    "test_df['bags_passengers_ratio'] = np.where(np.isfinite(test_df['bags_passengers_ratio']), test_df['bags_passengers_ratio'], 0)\n",
    "\n",
    "\n",
    "x_test, y_test = test_df.drop('ActualTOW', axis=1), test_df['ActualTOW']\n"
   ],
   "metadata": {
    "collapsed": false,
    "ExecuteTime": {
     "end_time": "2023-05-31T19:49:30.031488800Z",
     "start_time": "2023-05-31T19:49:30.023343700Z"
    }
   }
  },
  {
   "cell_type": "code",
   "execution_count": 398,
   "outputs": [],
   "source": [
    "x_train_s = scaler.fit_transform(x_train)\n"
   ],
   "metadata": {
    "collapsed": false,
    "ExecuteTime": {
     "end_time": "2023-05-31T19:49:32.985718100Z",
     "start_time": "2023-05-31T19:49:32.971445100Z"
    }
   }
  },
  {
   "cell_type": "code",
   "execution_count": 399,
   "outputs": [
    {
     "data": {
      "text/plain": "-153.14782557624747"
     },
     "execution_count": 399,
     "metadata": {},
     "output_type": "execute_result"
    }
   ],
   "source": [
    "reg.score(x_test, y_test)"
   ],
   "metadata": {
    "collapsed": false,
    "ExecuteTime": {
     "end_time": "2023-05-31T19:49:33.482002900Z",
     "start_time": "2023-05-31T19:49:33.474784800Z"
    }
   }
  },
  {
   "cell_type": "code",
   "execution_count": 400,
   "outputs": [],
   "source": [
    "scaler = StandardScaler()\n",
    "x_train, y_train = train_df.drop('ActualTOW', axis=1), train_df['ActualTOW']\n",
    "x_train_s = scaler.fit_transform(x_train)\n",
    "x_test_s = scaler.fit_transform(x_test)"
   ],
   "metadata": {
    "collapsed": false,
    "ExecuteTime": {
     "end_time": "2023-05-31T19:49:37.737506400Z",
     "start_time": "2023-05-31T19:49:37.720477600Z"
    }
   }
  },
  {
   "cell_type": "code",
   "execution_count": 401,
   "outputs": [
    {
     "data": {
      "text/plain": "RandomForestRegressor()",
      "text/html": "<style>#sk-container-id-16 {color: black;background-color: white;}#sk-container-id-16 pre{padding: 0;}#sk-container-id-16 div.sk-toggleable {background-color: white;}#sk-container-id-16 label.sk-toggleable__label {cursor: pointer;display: block;width: 100%;margin-bottom: 0;padding: 0.3em;box-sizing: border-box;text-align: center;}#sk-container-id-16 label.sk-toggleable__label-arrow:before {content: \"▸\";float: left;margin-right: 0.25em;color: #696969;}#sk-container-id-16 label.sk-toggleable__label-arrow:hover:before {color: black;}#sk-container-id-16 div.sk-estimator:hover label.sk-toggleable__label-arrow:before {color: black;}#sk-container-id-16 div.sk-toggleable__content {max-height: 0;max-width: 0;overflow: hidden;text-align: left;background-color: #f0f8ff;}#sk-container-id-16 div.sk-toggleable__content pre {margin: 0.2em;color: black;border-radius: 0.25em;background-color: #f0f8ff;}#sk-container-id-16 input.sk-toggleable__control:checked~div.sk-toggleable__content {max-height: 200px;max-width: 100%;overflow: auto;}#sk-container-id-16 input.sk-toggleable__control:checked~label.sk-toggleable__label-arrow:before {content: \"▾\";}#sk-container-id-16 div.sk-estimator input.sk-toggleable__control:checked~label.sk-toggleable__label {background-color: #d4ebff;}#sk-container-id-16 div.sk-label input.sk-toggleable__control:checked~label.sk-toggleable__label {background-color: #d4ebff;}#sk-container-id-16 input.sk-hidden--visually {border: 0;clip: rect(1px 1px 1px 1px);clip: rect(1px, 1px, 1px, 1px);height: 1px;margin: -1px;overflow: hidden;padding: 0;position: absolute;width: 1px;}#sk-container-id-16 div.sk-estimator {font-family: monospace;background-color: #f0f8ff;border: 1px dotted black;border-radius: 0.25em;box-sizing: border-box;margin-bottom: 0.5em;}#sk-container-id-16 div.sk-estimator:hover {background-color: #d4ebff;}#sk-container-id-16 div.sk-parallel-item::after {content: \"\";width: 100%;border-bottom: 1px solid gray;flex-grow: 1;}#sk-container-id-16 div.sk-label:hover label.sk-toggleable__label {background-color: #d4ebff;}#sk-container-id-16 div.sk-serial::before {content: \"\";position: absolute;border-left: 1px solid gray;box-sizing: border-box;top: 0;bottom: 0;left: 50%;z-index: 0;}#sk-container-id-16 div.sk-serial {display: flex;flex-direction: column;align-items: center;background-color: white;padding-right: 0.2em;padding-left: 0.2em;position: relative;}#sk-container-id-16 div.sk-item {position: relative;z-index: 1;}#sk-container-id-16 div.sk-parallel {display: flex;align-items: stretch;justify-content: center;background-color: white;position: relative;}#sk-container-id-16 div.sk-item::before, #sk-container-id-16 div.sk-parallel-item::before {content: \"\";position: absolute;border-left: 1px solid gray;box-sizing: border-box;top: 0;bottom: 0;left: 50%;z-index: -1;}#sk-container-id-16 div.sk-parallel-item {display: flex;flex-direction: column;z-index: 1;position: relative;background-color: white;}#sk-container-id-16 div.sk-parallel-item:first-child::after {align-self: flex-end;width: 50%;}#sk-container-id-16 div.sk-parallel-item:last-child::after {align-self: flex-start;width: 50%;}#sk-container-id-16 div.sk-parallel-item:only-child::after {width: 0;}#sk-container-id-16 div.sk-dashed-wrapped {border: 1px dashed gray;margin: 0 0.4em 0.5em 0.4em;box-sizing: border-box;padding-bottom: 0.4em;background-color: white;}#sk-container-id-16 div.sk-label label {font-family: monospace;font-weight: bold;display: inline-block;line-height: 1.2em;}#sk-container-id-16 div.sk-label-container {text-align: center;}#sk-container-id-16 div.sk-container {/* jupyter's `normalize.less` sets `[hidden] { display: none; }` but bootstrap.min.css set `[hidden] { display: none !important; }` so we also need the `!important` here to be able to override the default hidden behavior on the sphinx rendered scikit-learn.org. See: https://github.com/scikit-learn/scikit-learn/issues/21755 */display: inline-block !important;position: relative;}#sk-container-id-16 div.sk-text-repr-fallback {display: none;}</style><div id=\"sk-container-id-16\" class=\"sk-top-container\"><div class=\"sk-text-repr-fallback\"><pre>RandomForestRegressor()</pre><b>In a Jupyter environment, please rerun this cell to show the HTML representation or trust the notebook. <br />On GitHub, the HTML representation is unable to render, please try loading this page with nbviewer.org.</b></div><div class=\"sk-container\" hidden><div class=\"sk-item\"><div class=\"sk-estimator sk-toggleable\"><input class=\"sk-toggleable__control sk-hidden--visually\" id=\"sk-estimator-id-18\" type=\"checkbox\" checked><label for=\"sk-estimator-id-18\" class=\"sk-toggleable__label sk-toggleable__label-arrow\">RandomForestRegressor</label><div class=\"sk-toggleable__content\"><pre>RandomForestRegressor()</pre></div></div></div></div></div>"
     },
     "execution_count": 401,
     "metadata": {},
     "output_type": "execute_result"
    }
   ],
   "source": [
    "forest = RandomForestRegressor()\n",
    "\n",
    "forest.fit(x_train_s, y_train)"
   ],
   "metadata": {
    "collapsed": false,
    "ExecuteTime": {
     "end_time": "2023-05-31T19:50:09.080843800Z",
     "start_time": "2023-05-31T19:49:40.339390300Z"
    }
   }
  },
  {
   "cell_type": "code",
   "execution_count": 405,
   "outputs": [
    {
     "data": {
      "text/plain": "array([[-0.92268475,  0.        ,  0.        , ..., -0.31886641,\n         0.16736275,  0.40542597],\n       [ 0.4651937 ,  0.        ,  0.        , ...,  0.89502379,\n         0.03315169,  0.8066324 ],\n       [ 1.62175907,  0.        ,  0.        , ..., -1.07838094,\n         0.64168012, -0.52543607],\n       ...,\n       [ 0.00256755,  0.        ,  0.        , ...,  0.63682977,\n         0.16736275,  0.44887871],\n       [-0.92268475,  0.        ,  0.        , ...,  0.70158411,\n         0.23998882,  0.23869449],\n       [ 1.15913292,  0.        ,  0.        , ...,  1.03138257,\n        -0.03017679,  0.93499903]])"
     },
     "execution_count": 405,
     "metadata": {},
     "output_type": "execute_result"
    }
   ],
   "source": [
    "x_train_s"
   ],
   "metadata": {
    "collapsed": false,
    "ExecuteTime": {
     "end_time": "2023-05-31T19:50:33.547392200Z",
     "start_time": "2023-05-31T19:50:33.523232100Z"
    }
   }
  },
  {
   "cell_type": "code",
   "execution_count": 407,
   "outputs": [
    {
     "data": {
      "text/plain": "0.13448591213322136"
     },
     "execution_count": 407,
     "metadata": {},
     "output_type": "execute_result"
    }
   ],
   "source": [
    "forest.score(x_test_s, y_test)"
   ],
   "metadata": {
    "collapsed": false,
    "ExecuteTime": {
     "end_time": "2023-05-31T19:50:44.312197900Z",
     "start_time": "2023-05-31T19:50:44.168718400Z"
    }
   }
  },
  {
   "cell_type": "code",
   "execution_count": null,
   "outputs": [],
   "source": [
    "forest = RandomForestRegressor()\n",
    "\n",
    "param_grid = {\n",
    "    'n_estimators': [100, 200, 300],  # Different numbers of estimators to try\n",
    "    'max_depth': [None, 4, 8],  # Different maximum depths to try\n",
    "    'min_samples_split': [2, 4]  # Different minimum samples split to try\n",
    "}\n",
    "\n",
    "grid_search = GridSearchCV(estimator=forest, param_grid=param_grid, cv=5,\n",
    "                           scoring='neg_mean_squared_error',\n",
    "                           return_train_score=True)\n",
    "\n",
    "grid_search.fit(x_train_s, y_train)\n"
   ],
   "metadata": {
    "collapsed": false,
    "is_executing": true
   }
  },
  {
   "cell_type": "code",
   "execution_count": null,
   "outputs": [],
   "source": [
    "best_model = grid_search.best_estimator_"
   ],
   "metadata": {
    "collapsed": false
   }
  },
  {
   "cell_type": "code",
   "execution_count": null,
   "outputs": [],
   "source": [
    "best_model.score(x_test_s, y_test)"
   ],
   "metadata": {
    "collapsed": false
   }
  },
  {
   "cell_type": "code",
   "execution_count": null,
   "outputs": [],
   "source": [
    "model.predict(df_val)"
   ],
   "metadata": {
    "collapsed": false
   }
  },
  {
   "cell_type": "code",
   "execution_count": null,
   "outputs": [],
   "source": [
    "# Create the output directory if it doesn't exist\n",
    "output_directory = 'output'\n",
    "if not os.path.exists(output_directory):\n",
    "    os.makedirs(output_directory)\n",
    "    print('Output directory created successfully.')\n",
    "\n",
    "# Save data to CSV file\n",
    "output_path = os.path.join(output_directory, 'output.csv')\n",
    "df_val.to_csv(output_path, index=False)\n",
    "\n",
    "print('Data saved to', output_path)"
   ],
   "metadata": {
    "collapsed": false
   }
  }
 ],
 "metadata": {
  "kernelspec": {
   "display_name": "Python 3 (ipykernel)",
   "language": "python",
   "name": "python3"
  },
  "language_info": {
   "codemirror_mode": {
    "name": "ipython",
    "version": 3
   },
   "file_extension": ".py",
   "mimetype": "text/x-python",
   "name": "python",
   "nbconvert_exporter": "python",
   "pygments_lexer": "ipython3",
   "version": "3.11.3"
  }
 },
 "nbformat": 4,
 "nbformat_minor": 4
}
